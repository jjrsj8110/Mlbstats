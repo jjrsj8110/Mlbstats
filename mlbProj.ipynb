{
  "nbformat": 4,
  "nbformat_minor": 0,
  "metadata": {
    "colab": {
      "provenance": [],
      "authorship_tag": "ABX9TyNLKqeZmMnouCZlbOqXJGHz",
      "include_colab_link": true
    },
    "kernelspec": {
      "name": "python3",
      "display_name": "Python 3"
    },
    "language_info": {
      "name": "python"
    }
  },
  "cells": [
    {
      "cell_type": "markdown",
      "metadata": {
        "id": "view-in-github",
        "colab_type": "text"
      },
      "source": [
        "<a href=\"https://colab.research.google.com/github/jjrsj8110/Mlbstats/blob/main/mlbProj.ipynb\" target=\"_parent\"><img src=\"https://colab.research.google.com/assets/colab-badge.svg\" alt=\"Open In Colab\"/></a>"
      ]
    },
    {
      "cell_type": "code",
      "execution_count": 3,
      "metadata": {
        "id": "q15dxyLUY7Gc",
        "outputId": "0c20d629-4cd8-4220-b25e-af88a39ff71a",
        "colab": {
          "base_uri": "https://localhost:8080/"
        }
      },
      "outputs": [
        {
          "output_type": "stream",
          "name": "stdout",
          "text": [
            "         Season           Age          Team            Lg   WAR      G  \\\n",
            "0          2021            24           SEA            AL  -0.5   47.0   \n",
            "1          2022            25           SEA            AL   3.9  119.0   \n",
            "2          2023            26           SEA            AL   3.4  145.0   \n",
            "3          2024            27           SEA            AL   4.7  153.0   \n",
            "4          2025            28           SEA            AL   5.1   99.0   \n",
            "5         5 Yrs         5 Yrs         5 Yrs         5 Yrs  16.5  563.0   \n",
            "6  162 Game Avg  162 Game Avg  162 Game Avg  162 Game Avg   4.8  162.0   \n",
            "\n",
            "       PA      AB      R      H  ...   rOBA  Rbat+     TB  GIDP   HBP   SH  \\\n",
            "0   148.0   139.0    6.0   25.0  ...  0.229     41   43.0   3.0   1.0  0.0   \n",
            "1   415.0   370.0   46.0   78.0  ...  0.338    123  181.0   5.0   2.0  0.0   \n",
            "2   569.0   513.0   78.0  119.0  ...  0.331    116  234.0   6.0   1.0  0.0   \n",
            "3   628.0   546.0   73.0  120.0  ...  0.324    117  238.0   7.0   6.0  0.0   \n",
            "4   438.0   367.0   68.0   94.0  ...  0.410    179  227.0   5.0   5.0  0.0   \n",
            "5  2198.0  1935.0  271.0  436.0  ...  0.339    124  923.0  26.0  15.0  0.0   \n",
            "6   632.5   556.8   78.0  125.5  ...  0.339    124  265.6   7.5   4.3  0.0   \n",
            "\n",
            "     SF   IBB    Pos    Awards  \n",
            "0   1.0   0.0    2/H       NaN  \n",
            "1   5.0   0.0  *2H/D       NaN  \n",
            "2   1.0   1.0   *2HD    MVP-18  \n",
            "3   6.0   4.0  *2D/H  MVP-12GG  \n",
            "4   3.0  12.0  *2D/H        AS  \n",
            "5  16.0  17.0    2DH       NaN  \n",
            "6   4.6   4.9    NaN       NaN  \n",
            "\n",
            "[7 rows x 33 columns]\n",
            "Index(['Season', 'Age', 'Team', 'Lg', 'WAR', 'G', 'PA', 'AB', 'R', 'H', '2B',\n",
            "       '3B', 'HR', 'RBI', 'SB', 'CS', 'BB', 'SO', 'BA', 'OBP', 'SLG', 'OPS',\n",
            "       'OPS+', 'rOBA', 'Rbat+', 'TB', 'GIDP', 'HBP', 'SH', 'SF', 'IBB', 'Pos',\n",
            "       'Awards'],\n",
            "      dtype='object')\n"
          ]
        }
      ],
      "source": [
        "import pandas as pd\n",
        "import numpy as np\n",
        "\n",
        "data = pd.read_csv(\"careerstats.csv\")\n",
        "print(data)\n",
        "print(data.columns)"
      ]
    },
    {
      "cell_type": "code",
      "source": [
        "data = data.drop(columns=\"Age\")\n",
        "print(data)"
      ],
      "metadata": {
        "id": "j8jqZf7SHP6H",
        "outputId": "6c64840b-e327-41d5-f837-7185729ef21a",
        "colab": {
          "base_uri": "https://localhost:8080/"
        }
      },
      "execution_count": 4,
      "outputs": [
        {
          "output_type": "stream",
          "name": "stdout",
          "text": [
            "         Season          Team            Lg   WAR      G      PA      AB  \\\n",
            "0          2021           SEA            AL  -0.5   47.0   148.0   139.0   \n",
            "1          2022           SEA            AL   3.9  119.0   415.0   370.0   \n",
            "2          2023           SEA            AL   3.4  145.0   569.0   513.0   \n",
            "3          2024           SEA            AL   4.7  153.0   628.0   546.0   \n",
            "4          2025           SEA            AL   5.1   99.0   438.0   367.0   \n",
            "5         5 Yrs         5 Yrs         5 Yrs  16.5  563.0  2198.0  1935.0   \n",
            "6  162 Game Avg  162 Game Avg  162 Game Avg   4.8  162.0   632.5   556.8   \n",
            "\n",
            "       R      H    2B  ...   rOBA  Rbat+     TB  GIDP   HBP   SH    SF   IBB  \\\n",
            "0    6.0   25.0  12.0  ...  0.229     41   43.0   3.0   1.0  0.0   1.0   0.0   \n",
            "1   46.0   78.0  20.0  ...  0.338    123  181.0   5.0   2.0  0.0   5.0   0.0   \n",
            "2   78.0  119.0  23.0  ...  0.331    116  234.0   6.0   1.0  0.0   1.0   1.0   \n",
            "3   73.0  120.0  16.0  ...  0.324    117  238.0   7.0   6.0  0.0   6.0   4.0   \n",
            "4   68.0   94.0  16.0  ...  0.410    179  227.0   5.0   5.0  0.0   3.0  12.0   \n",
            "5  271.0  436.0  87.0  ...  0.339    124  923.0  26.0  15.0  0.0  16.0  17.0   \n",
            "6   78.0  125.5  25.0  ...  0.339    124  265.6   7.5   4.3  0.0   4.6   4.9   \n",
            "\n",
            "     Pos    Awards  \n",
            "0    2/H       NaN  \n",
            "1  *2H/D       NaN  \n",
            "2   *2HD    MVP-18  \n",
            "3  *2D/H  MVP-12GG  \n",
            "4  *2D/H        AS  \n",
            "5    2DH       NaN  \n",
            "6    NaN       NaN  \n",
            "\n",
            "[7 rows x 32 columns]\n"
          ]
        }
      ]
    },
    {
      "cell_type": "code",
      "source": [
        "data = data.drop(columns=[\"Awards\", \"Pos\", \"IBB\", \"2B\"])\n",
        "print(data)"
      ],
      "metadata": {
        "id": "dPIu2p2_HoeN",
        "outputId": "c801ce30-2897-40ff-f41b-9c1609164309",
        "colab": {
          "base_uri": "https://localhost:8080/"
        }
      },
      "execution_count": 5,
      "outputs": [
        {
          "output_type": "stream",
          "name": "stdout",
          "text": [
            "         Season          Team            Lg   WAR      G      PA      AB  \\\n",
            "0          2021           SEA            AL  -0.5   47.0   148.0   139.0   \n",
            "1          2022           SEA            AL   3.9  119.0   415.0   370.0   \n",
            "2          2023           SEA            AL   3.4  145.0   569.0   513.0   \n",
            "3          2024           SEA            AL   4.7  153.0   628.0   546.0   \n",
            "4          2025           SEA            AL   5.1   99.0   438.0   367.0   \n",
            "5         5 Yrs         5 Yrs         5 Yrs  16.5  563.0  2198.0  1935.0   \n",
            "6  162 Game Avg  162 Game Avg  162 Game Avg   4.8  162.0   632.5   556.8   \n",
            "\n",
            "       R      H   3B  ...    SLG    OPS  OPS+   rOBA  Rbat+     TB  GIDP  \\\n",
            "0    6.0   25.0  0.0  ...  0.309  0.532    48  0.229     41   43.0   3.0   \n",
            "1   46.0   78.0  1.0  ...  0.489  0.774   122  0.338    123  181.0   5.0   \n",
            "2   78.0  119.0  1.0  ...  0.456  0.762   114  0.331    116  234.0   6.0   \n",
            "3   73.0  120.0  0.0  ...  0.436  0.748   119  0.324    117  238.0   7.0   \n",
            "4   68.0   94.0  0.0  ...  0.619  0.988   184  0.410    179  227.0   5.0   \n",
            "5  271.0  436.0  2.0  ...  0.477  0.788   125  0.339    124  923.0  26.0   \n",
            "6   78.0  125.5  0.6  ...  0.477  0.788   125  0.339    124  265.6   7.5   \n",
            "\n",
            "    HBP   SH    SF  \n",
            "0   1.0  0.0   1.0  \n",
            "1   2.0  0.0   5.0  \n",
            "2   1.0  0.0   1.0  \n",
            "3   6.0  0.0   6.0  \n",
            "4   5.0  0.0   3.0  \n",
            "5  15.0  0.0  16.0  \n",
            "6   4.3  0.0   4.6  \n",
            "\n",
            "[7 rows x 28 columns]\n"
          ]
        }
      ]
    },
    {
      "cell_type": "code",
      "source": [
        "data = data.drop(columns=[\"SB\", \"SF\", \"OPS\", \"OBP\", \"WAR\", \"Lg\", \"Team\", \"SLG\", \"rOBA\", \"HBP\", \"R\", \"3B\", \"Rbat+\", \"GIDP\", \"OPS+\", \"HR\", \"CS\"])\n",
        "print(data)"
      ],
      "metadata": {
        "id": "LsvVZqkhIAQs",
        "outputId": "d4a1b1e2-6c3e-40f1-fa57-eaef06ac19b7",
        "colab": {
          "base_uri": "https://localhost:8080/",
          "height": 351
        }
      },
      "execution_count": 7,
      "outputs": [
        {
          "output_type": "error",
          "ename": "KeyError",
          "evalue": "\"['SB', 'SF', 'OPS', 'OBP', 'WAR', 'Lg', 'Team', 'SLG', 'rOBA', 'HBP', 'R', '3B', 'Rbat+', 'GIDP', 'OPS+', 'HR', 'CS'] not found in axis\"",
          "traceback": [
            "\u001b[0;31m---------------------------------------------------------------------------\u001b[0m",
            "\u001b[0;31mKeyError\u001b[0m                                  Traceback (most recent call last)",
            "\u001b[0;32m/tmp/ipython-input-7-839307040.py\u001b[0m in \u001b[0;36m<cell line: 0>\u001b[0;34m()\u001b[0m\n\u001b[0;32m----> 1\u001b[0;31m \u001b[0mdata\u001b[0m \u001b[0;34m=\u001b[0m \u001b[0mdata\u001b[0m\u001b[0;34m.\u001b[0m\u001b[0mdrop\u001b[0m\u001b[0;34m(\u001b[0m\u001b[0mcolumns\u001b[0m\u001b[0;34m=\u001b[0m\u001b[0;34m[\u001b[0m\u001b[0;34m\"SB\"\u001b[0m\u001b[0;34m,\u001b[0m \u001b[0;34m\"SF\"\u001b[0m\u001b[0;34m,\u001b[0m \u001b[0;34m\"OPS\"\u001b[0m\u001b[0;34m,\u001b[0m \u001b[0;34m\"OBP\"\u001b[0m\u001b[0;34m,\u001b[0m \u001b[0;34m\"WAR\"\u001b[0m\u001b[0;34m,\u001b[0m \u001b[0;34m\"Lg\"\u001b[0m\u001b[0;34m,\u001b[0m \u001b[0;34m\"Team\"\u001b[0m\u001b[0;34m,\u001b[0m \u001b[0;34m\"SLG\"\u001b[0m\u001b[0;34m,\u001b[0m \u001b[0;34m\"rOBA\"\u001b[0m\u001b[0;34m,\u001b[0m \u001b[0;34m\"HBP\"\u001b[0m\u001b[0;34m,\u001b[0m \u001b[0;34m\"R\"\u001b[0m\u001b[0;34m,\u001b[0m \u001b[0;34m\"3B\"\u001b[0m\u001b[0;34m,\u001b[0m \u001b[0;34m\"Rbat+\"\u001b[0m\u001b[0;34m,\u001b[0m \u001b[0;34m\"GIDP\"\u001b[0m\u001b[0;34m,\u001b[0m \u001b[0;34m\"OPS+\"\u001b[0m\u001b[0;34m,\u001b[0m \u001b[0;34m\"HR\"\u001b[0m\u001b[0;34m,\u001b[0m \u001b[0;34m\"CS\"\u001b[0m\u001b[0;34m]\u001b[0m\u001b[0;34m)\u001b[0m\u001b[0;34m\u001b[0m\u001b[0;34m\u001b[0m\u001b[0m\n\u001b[0m\u001b[1;32m      2\u001b[0m \u001b[0mprint\u001b[0m\u001b[0;34m(\u001b[0m\u001b[0mdata\u001b[0m\u001b[0;34m)\u001b[0m\u001b[0;34m\u001b[0m\u001b[0;34m\u001b[0m\u001b[0m\n",
            "\u001b[0;32m/usr/local/lib/python3.11/dist-packages/pandas/core/frame.py\u001b[0m in \u001b[0;36mdrop\u001b[0;34m(self, labels, axis, index, columns, level, inplace, errors)\u001b[0m\n\u001b[1;32m   5579\u001b[0m                 \u001b[0mweight\u001b[0m  \u001b[0;36m1.0\u001b[0m     \u001b[0;36m0.8\u001b[0m\u001b[0;34m\u001b[0m\u001b[0;34m\u001b[0m\u001b[0m\n\u001b[1;32m   5580\u001b[0m         \"\"\"\n\u001b[0;32m-> 5581\u001b[0;31m         return super().drop(\n\u001b[0m\u001b[1;32m   5582\u001b[0m             \u001b[0mlabels\u001b[0m\u001b[0;34m=\u001b[0m\u001b[0mlabels\u001b[0m\u001b[0;34m,\u001b[0m\u001b[0;34m\u001b[0m\u001b[0;34m\u001b[0m\u001b[0m\n\u001b[1;32m   5583\u001b[0m             \u001b[0maxis\u001b[0m\u001b[0;34m=\u001b[0m\u001b[0maxis\u001b[0m\u001b[0;34m,\u001b[0m\u001b[0;34m\u001b[0m\u001b[0;34m\u001b[0m\u001b[0m\n",
            "\u001b[0;32m/usr/local/lib/python3.11/dist-packages/pandas/core/generic.py\u001b[0m in \u001b[0;36mdrop\u001b[0;34m(self, labels, axis, index, columns, level, inplace, errors)\u001b[0m\n\u001b[1;32m   4786\u001b[0m         \u001b[0;32mfor\u001b[0m \u001b[0maxis\u001b[0m\u001b[0;34m,\u001b[0m \u001b[0mlabels\u001b[0m \u001b[0;32min\u001b[0m \u001b[0maxes\u001b[0m\u001b[0;34m.\u001b[0m\u001b[0mitems\u001b[0m\u001b[0;34m(\u001b[0m\u001b[0;34m)\u001b[0m\u001b[0;34m:\u001b[0m\u001b[0;34m\u001b[0m\u001b[0;34m\u001b[0m\u001b[0m\n\u001b[1;32m   4787\u001b[0m             \u001b[0;32mif\u001b[0m \u001b[0mlabels\u001b[0m \u001b[0;32mis\u001b[0m \u001b[0;32mnot\u001b[0m \u001b[0;32mNone\u001b[0m\u001b[0;34m:\u001b[0m\u001b[0;34m\u001b[0m\u001b[0;34m\u001b[0m\u001b[0m\n\u001b[0;32m-> 4788\u001b[0;31m                 \u001b[0mobj\u001b[0m \u001b[0;34m=\u001b[0m \u001b[0mobj\u001b[0m\u001b[0;34m.\u001b[0m\u001b[0m_drop_axis\u001b[0m\u001b[0;34m(\u001b[0m\u001b[0mlabels\u001b[0m\u001b[0;34m,\u001b[0m \u001b[0maxis\u001b[0m\u001b[0;34m,\u001b[0m \u001b[0mlevel\u001b[0m\u001b[0;34m=\u001b[0m\u001b[0mlevel\u001b[0m\u001b[0;34m,\u001b[0m \u001b[0merrors\u001b[0m\u001b[0;34m=\u001b[0m\u001b[0merrors\u001b[0m\u001b[0;34m)\u001b[0m\u001b[0;34m\u001b[0m\u001b[0;34m\u001b[0m\u001b[0m\n\u001b[0m\u001b[1;32m   4789\u001b[0m \u001b[0;34m\u001b[0m\u001b[0m\n\u001b[1;32m   4790\u001b[0m         \u001b[0;32mif\u001b[0m \u001b[0minplace\u001b[0m\u001b[0;34m:\u001b[0m\u001b[0;34m\u001b[0m\u001b[0;34m\u001b[0m\u001b[0m\n",
            "\u001b[0;32m/usr/local/lib/python3.11/dist-packages/pandas/core/generic.py\u001b[0m in \u001b[0;36m_drop_axis\u001b[0;34m(self, labels, axis, level, errors, only_slice)\u001b[0m\n\u001b[1;32m   4828\u001b[0m                 \u001b[0mnew_axis\u001b[0m \u001b[0;34m=\u001b[0m \u001b[0maxis\u001b[0m\u001b[0;34m.\u001b[0m\u001b[0mdrop\u001b[0m\u001b[0;34m(\u001b[0m\u001b[0mlabels\u001b[0m\u001b[0;34m,\u001b[0m \u001b[0mlevel\u001b[0m\u001b[0;34m=\u001b[0m\u001b[0mlevel\u001b[0m\u001b[0;34m,\u001b[0m \u001b[0merrors\u001b[0m\u001b[0;34m=\u001b[0m\u001b[0merrors\u001b[0m\u001b[0;34m)\u001b[0m\u001b[0;34m\u001b[0m\u001b[0;34m\u001b[0m\u001b[0m\n\u001b[1;32m   4829\u001b[0m             \u001b[0;32melse\u001b[0m\u001b[0;34m:\u001b[0m\u001b[0;34m\u001b[0m\u001b[0;34m\u001b[0m\u001b[0m\n\u001b[0;32m-> 4830\u001b[0;31m                 \u001b[0mnew_axis\u001b[0m \u001b[0;34m=\u001b[0m \u001b[0maxis\u001b[0m\u001b[0;34m.\u001b[0m\u001b[0mdrop\u001b[0m\u001b[0;34m(\u001b[0m\u001b[0mlabels\u001b[0m\u001b[0;34m,\u001b[0m \u001b[0merrors\u001b[0m\u001b[0;34m=\u001b[0m\u001b[0merrors\u001b[0m\u001b[0;34m)\u001b[0m\u001b[0;34m\u001b[0m\u001b[0;34m\u001b[0m\u001b[0m\n\u001b[0m\u001b[1;32m   4831\u001b[0m             \u001b[0mindexer\u001b[0m \u001b[0;34m=\u001b[0m \u001b[0maxis\u001b[0m\u001b[0;34m.\u001b[0m\u001b[0mget_indexer\u001b[0m\u001b[0;34m(\u001b[0m\u001b[0mnew_axis\u001b[0m\u001b[0;34m)\u001b[0m\u001b[0;34m\u001b[0m\u001b[0;34m\u001b[0m\u001b[0m\n\u001b[1;32m   4832\u001b[0m \u001b[0;34m\u001b[0m\u001b[0m\n",
            "\u001b[0;32m/usr/local/lib/python3.11/dist-packages/pandas/core/indexes/base.py\u001b[0m in \u001b[0;36mdrop\u001b[0;34m(self, labels, errors)\u001b[0m\n\u001b[1;32m   7068\u001b[0m         \u001b[0;32mif\u001b[0m \u001b[0mmask\u001b[0m\u001b[0;34m.\u001b[0m\u001b[0many\u001b[0m\u001b[0;34m(\u001b[0m\u001b[0;34m)\u001b[0m\u001b[0;34m:\u001b[0m\u001b[0;34m\u001b[0m\u001b[0;34m\u001b[0m\u001b[0m\n\u001b[1;32m   7069\u001b[0m             \u001b[0;32mif\u001b[0m \u001b[0merrors\u001b[0m \u001b[0;34m!=\u001b[0m \u001b[0;34m\"ignore\"\u001b[0m\u001b[0;34m:\u001b[0m\u001b[0;34m\u001b[0m\u001b[0;34m\u001b[0m\u001b[0m\n\u001b[0;32m-> 7070\u001b[0;31m                 \u001b[0;32mraise\u001b[0m \u001b[0mKeyError\u001b[0m\u001b[0;34m(\u001b[0m\u001b[0;34mf\"{labels[mask].tolist()} not found in axis\"\u001b[0m\u001b[0;34m)\u001b[0m\u001b[0;34m\u001b[0m\u001b[0;34m\u001b[0m\u001b[0m\n\u001b[0m\u001b[1;32m   7071\u001b[0m             \u001b[0mindexer\u001b[0m \u001b[0;34m=\u001b[0m \u001b[0mindexer\u001b[0m\u001b[0;34m[\u001b[0m\u001b[0;34m~\u001b[0m\u001b[0mmask\u001b[0m\u001b[0;34m]\u001b[0m\u001b[0;34m\u001b[0m\u001b[0;34m\u001b[0m\u001b[0m\n\u001b[1;32m   7072\u001b[0m         \u001b[0;32mreturn\u001b[0m \u001b[0mself\u001b[0m\u001b[0;34m.\u001b[0m\u001b[0mdelete\u001b[0m\u001b[0;34m(\u001b[0m\u001b[0mindexer\u001b[0m\u001b[0;34m)\u001b[0m\u001b[0;34m\u001b[0m\u001b[0;34m\u001b[0m\u001b[0m\n",
            "\u001b[0;31mKeyError\u001b[0m: \"['SB', 'SF', 'OPS', 'OBP', 'WAR', 'Lg', 'Team', 'SLG', 'rOBA', 'HBP', 'R', '3B', 'Rbat+', 'GIDP', 'OPS+', 'HR', 'CS'] not found in axis\""
          ]
        }
      ]
    },
    {
      "cell_type": "code",
      "source": [
        "data = data.drop(columns=[\"RBI\", \"BB\", \"SO\", \"TB\", \"SH\"])"
      ],
      "metadata": {
        "id": "JNnKUN_yJ779"
      },
      "execution_count": 8,
      "outputs": []
    },
    {
      "cell_type": "code",
      "source": [
        "print(data)"
      ],
      "metadata": {
        "id": "iajX-aYNKUI8",
        "outputId": "af172a69-dbef-4daf-9d47-5947e4ce6043",
        "colab": {
          "base_uri": "https://localhost:8080/"
        }
      },
      "execution_count": 9,
      "outputs": [
        {
          "output_type": "stream",
          "name": "stdout",
          "text": [
            "         Season      G      PA      AB      H     BA\n",
            "0          2021   47.0   148.0   139.0   25.0  0.180\n",
            "1          2022  119.0   415.0   370.0   78.0  0.211\n",
            "2          2023  145.0   569.0   513.0  119.0  0.232\n",
            "3          2024  153.0   628.0   546.0  120.0  0.220\n",
            "4          2025   99.0   438.0   367.0   94.0  0.256\n",
            "5         5 Yrs  563.0  2198.0  1935.0  436.0  0.225\n",
            "6  162 Game Avg  162.0   632.5   556.8  125.5  0.225\n"
          ]
        }
      ]
    },
    {
      "cell_type": "code",
      "source": [
        "data = data.drop(index=6)\n",
        "print(data)"
      ],
      "metadata": {
        "id": "ZowoocOxKYm5",
        "outputId": "a8ab568a-2606-4aea-fd21-9fc5bdef4322",
        "colab": {
          "base_uri": "https://localhost:8080/"
        }
      },
      "execution_count": 11,
      "outputs": [
        {
          "output_type": "stream",
          "name": "stdout",
          "text": [
            "  Season      G      PA      AB      H     BA\n",
            "0   2021   47.0   148.0   139.0   25.0  0.180\n",
            "1   2022  119.0   415.0   370.0   78.0  0.211\n",
            "2   2023  145.0   569.0   513.0  119.0  0.232\n",
            "3   2024  153.0   628.0   546.0  120.0  0.220\n",
            "4   2025   99.0   438.0   367.0   94.0  0.256\n",
            "5  5 Yrs  563.0  2198.0  1935.0  436.0  0.225\n"
          ]
        }
      ]
    }
  ]
}