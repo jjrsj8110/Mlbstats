{
  "nbformat": 4,
  "nbformat_minor": 0,
  "metadata": {
    "colab": {
      "provenance": [],
      "authorship_tag": "ABX9TyMjXoBz8vBKLIphcwcFnLAq",
      "include_colab_link": true
    },
    "kernelspec": {
      "name": "python3",
      "display_name": "Python 3"
    },
    "language_info": {
      "name": "python"
    }
  },
  "cells": [
    {
      "cell_type": "markdown",
      "metadata": {
        "id": "view-in-github",
        "colab_type": "text"
      },
      "source": [
        "<a href=\"https://colab.research.google.com/github/jjrsj8110/Mlbstats/blob/main/mlbProj.ipynb\" target=\"_parent\"><img src=\"https://colab.research.google.com/assets/colab-badge.svg\" alt=\"Open In Colab\"/></a>"
      ]
    },
    {
      "cell_type": "code",
      "execution_count": 13,
      "metadata": {
        "id": "q15dxyLUY7Gc",
        "outputId": "7b7a2d03-fbd3-4a0c-acc0-5b7c01534de3",
        "colab": {
          "base_uri": "https://localhost:8080/"
        }
      },
      "outputs": [
        {
          "output_type": "stream",
          "name": "stdout",
          "text": [
            "         Season           Age          Team            Lg   WAR      G  \\\n",
            "0          2021            24           SEA            AL  -0.5   47.0   \n",
            "1          2022            25           SEA            AL   3.9  119.0   \n",
            "2          2023            26           SEA            AL   3.4  145.0   \n",
            "3          2024            27           SEA            AL   4.7  153.0   \n",
            "4          2025            28           SEA            AL   5.1   99.0   \n",
            "5         5 Yrs         5 Yrs         5 Yrs         5 Yrs  16.5  563.0   \n",
            "6  162 Game Avg  162 Game Avg  162 Game Avg  162 Game Avg   4.8  162.0   \n",
            "\n",
            "       PA      AB      R      H  ...   rOBA  Rbat+     TB  GIDP   HBP   SH  \\\n",
            "0   148.0   139.0    6.0   25.0  ...  0.229     41   43.0   3.0   1.0  0.0   \n",
            "1   415.0   370.0   46.0   78.0  ...  0.338    123  181.0   5.0   2.0  0.0   \n",
            "2   569.0   513.0   78.0  119.0  ...  0.331    116  234.0   6.0   1.0  0.0   \n",
            "3   628.0   546.0   73.0  120.0  ...  0.324    117  238.0   7.0   6.0  0.0   \n",
            "4   438.0   367.0   68.0   94.0  ...  0.410    179  227.0   5.0   5.0  0.0   \n",
            "5  2198.0  1935.0  271.0  436.0  ...  0.339    124  923.0  26.0  15.0  0.0   \n",
            "6   632.5   556.8   78.0  125.5  ...  0.339    124  265.6   7.5   4.3  0.0   \n",
            "\n",
            "     SF   IBB    Pos    Awards  \n",
            "0   1.0   0.0    2/H       NaN  \n",
            "1   5.0   0.0  *2H/D       NaN  \n",
            "2   1.0   1.0   *2HD    MVP-18  \n",
            "3   6.0   4.0  *2D/H  MVP-12GG  \n",
            "4   3.0  12.0  *2D/H        AS  \n",
            "5  16.0  17.0    2DH       NaN  \n",
            "6   4.6   4.9    NaN       NaN  \n",
            "\n",
            "[7 rows x 33 columns]\n",
            "Index(['Season', 'Age', 'Team', 'Lg', 'WAR', 'G', 'PA', 'AB', 'R', 'H', '2B',\n",
            "       '3B', 'HR', 'RBI', 'SB', 'CS', 'BB', 'SO', 'BA', 'OBP', 'SLG', 'OPS',\n",
            "       'OPS+', 'rOBA', 'Rbat+', 'TB', 'GIDP', 'HBP', 'SH', 'SF', 'IBB', 'Pos',\n",
            "       'Awards'],\n",
            "      dtype='object')\n"
          ]
        }
      ],
      "source": [
        "import pandas as pd\n",
        "import numpy as np\n",
        "\n",
        "data = pd.read_csv(\"careerstats.csv\")\n",
        "print(data)\n",
        "print(data.columns)"
      ]
    },
    {
      "cell_type": "code",
      "source": [
        "data = data.drop(columns=\"Age\")\n",
        "print(data)"
      ],
      "metadata": {
        "id": "j8jqZf7SHP6H",
        "outputId": "380d8129-0a42-4957-d435-ad32326018c6",
        "colab": {
          "base_uri": "https://localhost:8080/"
        }
      },
      "execution_count": 14,
      "outputs": [
        {
          "output_type": "stream",
          "name": "stdout",
          "text": [
            "         Season          Team            Lg   WAR      G      PA      AB  \\\n",
            "0          2021           SEA            AL  -0.5   47.0   148.0   139.0   \n",
            "1          2022           SEA            AL   3.9  119.0   415.0   370.0   \n",
            "2          2023           SEA            AL   3.4  145.0   569.0   513.0   \n",
            "3          2024           SEA            AL   4.7  153.0   628.0   546.0   \n",
            "4          2025           SEA            AL   5.1   99.0   438.0   367.0   \n",
            "5         5 Yrs         5 Yrs         5 Yrs  16.5  563.0  2198.0  1935.0   \n",
            "6  162 Game Avg  162 Game Avg  162 Game Avg   4.8  162.0   632.5   556.8   \n",
            "\n",
            "       R      H    2B  ...   rOBA  Rbat+     TB  GIDP   HBP   SH    SF   IBB  \\\n",
            "0    6.0   25.0  12.0  ...  0.229     41   43.0   3.0   1.0  0.0   1.0   0.0   \n",
            "1   46.0   78.0  20.0  ...  0.338    123  181.0   5.0   2.0  0.0   5.0   0.0   \n",
            "2   78.0  119.0  23.0  ...  0.331    116  234.0   6.0   1.0  0.0   1.0   1.0   \n",
            "3   73.0  120.0  16.0  ...  0.324    117  238.0   7.0   6.0  0.0   6.0   4.0   \n",
            "4   68.0   94.0  16.0  ...  0.410    179  227.0   5.0   5.0  0.0   3.0  12.0   \n",
            "5  271.0  436.0  87.0  ...  0.339    124  923.0  26.0  15.0  0.0  16.0  17.0   \n",
            "6   78.0  125.5  25.0  ...  0.339    124  265.6   7.5   4.3  0.0   4.6   4.9   \n",
            "\n",
            "     Pos    Awards  \n",
            "0    2/H       NaN  \n",
            "1  *2H/D       NaN  \n",
            "2   *2HD    MVP-18  \n",
            "3  *2D/H  MVP-12GG  \n",
            "4  *2D/H        AS  \n",
            "5    2DH       NaN  \n",
            "6    NaN       NaN  \n",
            "\n",
            "[7 rows x 32 columns]\n"
          ]
        }
      ]
    },
    {
      "cell_type": "code",
      "source": [
        "data = data.drop(columns=[\"Awards\", \"Pos\", \"IBB\", \"2B\"])\n",
        "print(data)"
      ],
      "metadata": {
        "id": "dPIu2p2_HoeN",
        "outputId": "e27185f1-9de1-457b-a653-89c8ce78ac12",
        "colab": {
          "base_uri": "https://localhost:8080/"
        }
      },
      "execution_count": 15,
      "outputs": [
        {
          "output_type": "stream",
          "name": "stdout",
          "text": [
            "         Season          Team            Lg   WAR      G      PA      AB  \\\n",
            "0          2021           SEA            AL  -0.5   47.0   148.0   139.0   \n",
            "1          2022           SEA            AL   3.9  119.0   415.0   370.0   \n",
            "2          2023           SEA            AL   3.4  145.0   569.0   513.0   \n",
            "3          2024           SEA            AL   4.7  153.0   628.0   546.0   \n",
            "4          2025           SEA            AL   5.1   99.0   438.0   367.0   \n",
            "5         5 Yrs         5 Yrs         5 Yrs  16.5  563.0  2198.0  1935.0   \n",
            "6  162 Game Avg  162 Game Avg  162 Game Avg   4.8  162.0   632.5   556.8   \n",
            "\n",
            "       R      H   3B  ...    SLG    OPS  OPS+   rOBA  Rbat+     TB  GIDP  \\\n",
            "0    6.0   25.0  0.0  ...  0.309  0.532    48  0.229     41   43.0   3.0   \n",
            "1   46.0   78.0  1.0  ...  0.489  0.774   122  0.338    123  181.0   5.0   \n",
            "2   78.0  119.0  1.0  ...  0.456  0.762   114  0.331    116  234.0   6.0   \n",
            "3   73.0  120.0  0.0  ...  0.436  0.748   119  0.324    117  238.0   7.0   \n",
            "4   68.0   94.0  0.0  ...  0.619  0.988   184  0.410    179  227.0   5.0   \n",
            "5  271.0  436.0  2.0  ...  0.477  0.788   125  0.339    124  923.0  26.0   \n",
            "6   78.0  125.5  0.6  ...  0.477  0.788   125  0.339    124  265.6   7.5   \n",
            "\n",
            "    HBP   SH    SF  \n",
            "0   1.0  0.0   1.0  \n",
            "1   2.0  0.0   5.0  \n",
            "2   1.0  0.0   1.0  \n",
            "3   6.0  0.0   6.0  \n",
            "4   5.0  0.0   3.0  \n",
            "5  15.0  0.0  16.0  \n",
            "6   4.3  0.0   4.6  \n",
            "\n",
            "[7 rows x 28 columns]\n"
          ]
        }
      ]
    },
    {
      "cell_type": "code",
      "source": [
        "data = data.drop(columns=[\"SB\", \"SF\", \"OPS\", \"OBP\", \"WAR\", \"Lg\", \"Team\", \"SLG\", \"rOBA\", \"HBP\", \"R\", \"3B\", \"Rbat+\", \"GIDP\", \"OPS+\", \"HR\", \"CS\"])\n",
        "print(data)"
      ],
      "metadata": {
        "id": "LsvVZqkhIAQs",
        "outputId": "76dbd8e7-9287-4464-e4e8-f5182d7fc46f",
        "colab": {
          "base_uri": "https://localhost:8080/"
        }
      },
      "execution_count": 16,
      "outputs": [
        {
          "output_type": "stream",
          "name": "stdout",
          "text": [
            "         Season      G      PA      AB      H    RBI     BB     SO     BA  \\\n",
            "0          2021   47.0   148.0   139.0   25.0   13.0    7.0   52.0  0.180   \n",
            "1          2022  119.0   415.0   370.0   78.0   63.0   38.0  122.0  0.211   \n",
            "2          2023  145.0   569.0   513.0  119.0   75.0   54.0  158.0  0.232   \n",
            "3          2024  153.0   628.0   546.0  120.0  100.0   70.0  176.0  0.220   \n",
            "4          2025   99.0   438.0   367.0   94.0   84.0   63.0  108.0  0.256   \n",
            "5         5 Yrs  563.0  2198.0  1935.0  436.0  335.0  232.0  616.0  0.225   \n",
            "6  162 Game Avg  162.0   632.5   556.8  125.5   96.4   66.8  177.3  0.225   \n",
            "\n",
            "      TB   SH  \n",
            "0   43.0  0.0  \n",
            "1  181.0  0.0  \n",
            "2  234.0  0.0  \n",
            "3  238.0  0.0  \n",
            "4  227.0  0.0  \n",
            "5  923.0  0.0  \n",
            "6  265.6  0.0  \n"
          ]
        }
      ]
    },
    {
      "cell_type": "code",
      "source": [
        "data = data.drop(columns=[\"RBI\", \"BB\", \"SO\", \"TB\", \"SH\"])"
      ],
      "metadata": {
        "id": "JNnKUN_yJ779"
      },
      "execution_count": 17,
      "outputs": []
    },
    {
      "cell_type": "code",
      "source": [
        "print(data)"
      ],
      "metadata": {
        "id": "iajX-aYNKUI8",
        "outputId": "f179a260-2ee4-499e-e088-9a2ff65d8fd4",
        "colab": {
          "base_uri": "https://localhost:8080/"
        }
      },
      "execution_count": 18,
      "outputs": [
        {
          "output_type": "stream",
          "name": "stdout",
          "text": [
            "         Season      G      PA      AB      H     BA\n",
            "0          2021   47.0   148.0   139.0   25.0  0.180\n",
            "1          2022  119.0   415.0   370.0   78.0  0.211\n",
            "2          2023  145.0   569.0   513.0  119.0  0.232\n",
            "3          2024  153.0   628.0   546.0  120.0  0.220\n",
            "4          2025   99.0   438.0   367.0   94.0  0.256\n",
            "5         5 Yrs  563.0  2198.0  1935.0  436.0  0.225\n",
            "6  162 Game Avg  162.0   632.5   556.8  125.5  0.225\n"
          ]
        }
      ]
    },
    {
      "cell_type": "code",
      "source": [
        "data = data.drop(index=6)\n",
        "print(data)"
      ],
      "metadata": {
        "id": "ZowoocOxKYm5",
        "outputId": "a9261cd1-a866-4da4-eefc-4b03fe294a15",
        "colab": {
          "base_uri": "https://localhost:8080/"
        }
      },
      "execution_count": 19,
      "outputs": [
        {
          "output_type": "stream",
          "name": "stdout",
          "text": [
            "  Season      G      PA      AB      H     BA\n",
            "0   2021   47.0   148.0   139.0   25.0  0.180\n",
            "1   2022  119.0   415.0   370.0   78.0  0.211\n",
            "2   2023  145.0   569.0   513.0  119.0  0.232\n",
            "3   2024  153.0   628.0   546.0  120.0  0.220\n",
            "4   2025   99.0   438.0   367.0   94.0  0.256\n",
            "5  5 Yrs  563.0  2198.0  1935.0  436.0  0.225\n"
          ]
        }
      ]
    },
    {
      "cell_type": "code",
      "source": [
        "data = data.drop(columns=\"G\")\n",
        "print(data)"
      ],
      "metadata": {
        "id": "3ogzhxNFLBNh",
        "outputId": "78f4ab37-ec85-4e74-e528-86ec214f7a70",
        "colab": {
          "base_uri": "https://localhost:8080/"
        }
      },
      "execution_count": 20,
      "outputs": [
        {
          "output_type": "stream",
          "name": "stdout",
          "text": [
            "  Season      PA      AB      H     BA\n",
            "0   2021   148.0   139.0   25.0  0.180\n",
            "1   2022   415.0   370.0   78.0  0.211\n",
            "2   2023   569.0   513.0  119.0  0.232\n",
            "3   2024   628.0   546.0  120.0  0.220\n",
            "4   2025   438.0   367.0   94.0  0.256\n",
            "5  5 Yrs  2198.0  1935.0  436.0  0.225\n"
          ]
        }
      ]
    },
    {
      "cell_type": "code",
      "source": [
        "data = data.drop(index=0)"
      ],
      "metadata": {
        "id": "9bP9g8bUek-I"
      },
      "execution_count": 21,
      "outputs": []
    },
    {
      "cell_type": "code",
      "source": [
        "data.index = ['First', 'Second', 'Third', 'Fourth', 'Average']\n",
        "print(data)"
      ],
      "metadata": {
        "id": "Yx00ar1Fe3bn",
        "outputId": "f6bca531-22ac-45e8-c720-d377e61f19df",
        "colab": {
          "base_uri": "https://localhost:8080/"
        }
      },
      "execution_count": 22,
      "outputs": [
        {
          "output_type": "stream",
          "name": "stdout",
          "text": [
            "        Season      PA      AB      H     BA\n",
            "First     2022   415.0   370.0   78.0  0.211\n",
            "Second    2023   569.0   513.0  119.0  0.232\n",
            "Third     2024   628.0   546.0  120.0  0.220\n",
            "Fourth    2025   438.0   367.0   94.0  0.256\n",
            "Average  5 Yrs  2198.0  1935.0  436.0  0.225\n"
          ]
        }
      ]
    },
    {
      "cell_type": "code",
      "source": [
        "data.loc['Average', 'Season'] = \"averages\"\n",
        "print(data)"
      ],
      "metadata": {
        "id": "EL6s793AgJY3",
        "outputId": "12b98172-dd8d-422b-d649-234902c0a800",
        "colab": {
          "base_uri": "https://localhost:8080/"
        }
      },
      "execution_count": 23,
      "outputs": [
        {
          "output_type": "stream",
          "name": "stdout",
          "text": [
            "           Season      PA      AB      H     BA\n",
            "First        2022   415.0   370.0   78.0  0.211\n",
            "Second       2023   569.0   513.0  119.0  0.232\n",
            "Third        2024   628.0   546.0  120.0  0.220\n",
            "Fourth       2025   438.0   367.0   94.0  0.256\n",
            "Average  averages  2198.0  1935.0  436.0  0.225\n"
          ]
        }
      ]
    },
    {
      "cell_type": "code",
      "source": [
        "data.loc['Average', 'PA'] = data.loc['Average', 'PA'] /4\n",
        "data.loc['Average', 'AB'] = data.loc['Average', 'AB'] /4\n",
        "data.loc['Average', 'H'] = data.loc['Average', 'H'] /4\n",
        "print(data)"
      ],
      "metadata": {
        "id": "pDyZSyUIgbhI",
        "outputId": "c050b6fb-a039-46f1-d82a-159486cfddf3",
        "colab": {
          "base_uri": "https://localhost:8080/"
        }
      },
      "execution_count": 24,
      "outputs": [
        {
          "output_type": "stream",
          "name": "stdout",
          "text": [
            "           Season     PA      AB      H     BA\n",
            "First        2022  415.0  370.00   78.0  0.211\n",
            "Second       2023  569.0  513.00  119.0  0.232\n",
            "Third        2024  628.0  546.00  120.0  0.220\n",
            "Fourth       2025  438.0  367.00   94.0  0.256\n",
            "Average  averages  549.5  483.75  109.0  0.225\n"
          ]
        }
      ]
    },
    {
      "cell_type": "code",
      "source": [
        "data['NOAB'] = data['PA'] - data['AB']\n",
        "print(data)"
      ],
      "metadata": {
        "id": "VpeyEgB1k0Ap",
        "outputId": "10bb3f87-d107-4e3b-c3e1-2c6debc4c3b1",
        "colab": {
          "base_uri": "https://localhost:8080/"
        }
      },
      "execution_count": 25,
      "outputs": [
        {
          "output_type": "stream",
          "name": "stdout",
          "text": [
            "           Season     PA      AB      H     BA   NOAB\n",
            "First        2022  415.0  370.00   78.0  0.211  45.00\n",
            "Second       2023  569.0  513.00  119.0  0.232  56.00\n",
            "Third        2024  628.0  546.00  120.0  0.220  82.00\n",
            "Fourth       2025  438.0  367.00   94.0  0.256  71.00\n",
            "Average  averages  549.5  483.75  109.0  0.225  65.75\n"
          ]
        }
      ]
    },
    {
      "cell_type": "code",
      "source": [
        "data['HP'] = (data['H']*100) / data['PA']\n",
        "data['OP'] = ((data['AB'] - data['H'])*100) / data['PA']\n",
        "data['NOABP'] = ((data['PA'] - data['AB'])*100) /data['PA']"
      ],
      "metadata": {
        "id": "WuFHp2FdnWUg"
      },
      "execution_count": 26,
      "outputs": []
    },
    {
      "cell_type": "code",
      "source": [
        "print(data)"
      ],
      "metadata": {
        "id": "Z8Mw-sWPqgjc",
        "outputId": "c29559f9-dd79-4542-a122-b8f5e7561acf",
        "colab": {
          "base_uri": "https://localhost:8080/"
        }
      },
      "execution_count": 27,
      "outputs": [
        {
          "output_type": "stream",
          "name": "stdout",
          "text": [
            "           Season     PA      AB      H     BA   NOAB         HP         OP  \\\n",
            "First        2022  415.0  370.00   78.0  0.211  45.00  18.795181  70.361446   \n",
            "Second       2023  569.0  513.00  119.0  0.232  56.00  20.913884  69.244288   \n",
            "Third        2024  628.0  546.00  120.0  0.220  82.00  19.108280  67.834395   \n",
            "Fourth       2025  438.0  367.00   94.0  0.256  71.00  21.461187  62.328767   \n",
            "Average  averages  549.5  483.75  109.0  0.225  65.75  19.836215  68.198362   \n",
            "\n",
            "             NOABP  \n",
            "First    10.843373  \n",
            "Second    9.841828  \n",
            "Third    13.057325  \n",
            "Fourth   16.210046  \n",
            "Average  11.965423  \n"
          ]
        }
      ]
    },
    {
      "cell_type": "code",
      "source": [],
      "metadata": {
        "id": "iwV7Gjp1qtAJ"
      },
      "execution_count": null,
      "outputs": []
    }
  ]
}