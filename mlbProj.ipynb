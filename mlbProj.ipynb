{
  "nbformat": 4,
  "nbformat_minor": 0,
  "metadata": {
    "colab": {
      "provenance": [],
      "authorship_tag": "ABX9TyP5RBV5+y96bbvWT87Q5Fi8",
      "include_colab_link": true
    },
    "kernelspec": {
      "name": "python3",
      "display_name": "Python 3"
    },
    "language_info": {
      "name": "python"
    }
  },
  "cells": [
    {
      "cell_type": "markdown",
      "metadata": {
        "id": "view-in-github",
        "colab_type": "text"
      },
      "source": [
        "<a href=\"https://colab.research.google.com/github/jjrsj8110/Mlbstats/blob/main/mlbProj.ipynb\" target=\"_parent\"><img src=\"https://colab.research.google.com/assets/colab-badge.svg\" alt=\"Open In Colab\"/></a>"
      ]
    },
    {
      "cell_type": "code",
      "execution_count": 1,
      "metadata": {
        "id": "q15dxyLUY7Gc",
        "outputId": "2c432de8-55b3-4755-fdbe-9499779f506a",
        "colab": {
          "base_uri": "https://localhost:8080/"
        }
      },
      "outputs": [
        {
          "output_type": "stream",
          "name": "stdout",
          "text": [
            "           Split    G   GS   PA   AB    R    H  2B  3B  HR  ...   TB  GDP  \\\n",
            "0    2025 Totals   98   97  435  364   67   93  16   0  38  ...  223    5   \n",
            "1    Last 7 days    4    4   18   17    2    3   0   0   0  ...    3    1   \n",
            "2   Last 14 days   10   10   47   39    5    6   0   0   3  ...   15    2   \n",
            "3   Last 28 days   22   22  101   80   10   14   2   0   6  ...   34    2   \n",
            "4  Last 365 days  156  154  693  585  100  145  23   0  52  ...  324    8   \n",
            "\n",
            "   HBP  SH  SF  IBB  ROE  BAbip  tOPS+  sOPS+  \n",
            "0    5   0   3   12    1  0.248    100    170  \n",
            "1    0   0   0    0    0  0.200    -11     10  \n",
            "2    0   0   1    1    0  0.111     38     80  \n",
            "3    1   0   2    7    0  0.154     58    108  \n",
            "4    8   0   5   13    2  0.249     87    152  \n",
            "\n",
            "[5 rows x 29 columns]\n"
          ]
        }
      ],
      "source": [
        "import pandas as pd\n",
        "import numpy as np\n",
        "\n",
        "data = pd.read_csv(\"stats.csv\")\n",
        "print(data)"
      ]
    }
  ]
}